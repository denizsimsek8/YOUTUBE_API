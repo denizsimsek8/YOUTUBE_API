{
 "cells": [
  {
   "cell_type": "code",
   "execution_count": 1,
   "metadata": {},
   "outputs": [],
   "source": [
    "import pandas as pd\n",
    "from config.config import YOUTUBE_API_KEY\n",
    "from googleapiclient.discovery import build\n",
    "from IPython.display import JSON"
   ]
  },
  {
   "cell_type": "code",
   "execution_count": 3,
   "metadata": {},
   "outputs": [],
   "source": [
    "api_service_name = \"youtube\"\n",
    "api_version = \"v3\""
   ]
  },
  {
   "cell_type": "code",
   "execution_count": 4,
   "metadata": {},
   "outputs": [],
   "source": [
    "channel_ids = [\n",
    "    \"UC3lYGDxVFqsgBDgtxHTF3YA\"\n",
    "]"
   ]
  },
  {
   "cell_type": "code",
   "execution_count": 30,
   "metadata": {},
   "outputs": [],
   "source": [
    "youtube = build(api_service_name, api_version, developerKey=YOUTUBE_API_KEY)"
   ]
  },
  {
   "cell_type": "code",
   "execution_count": 7,
   "metadata": {},
   "outputs": [
    {
     "name": "stdout",
     "output_type": "stream",
     "text": [
      "{'kind': 'youtube#channelListResponse', 'etag': 'nkfGIgwVKFRypCwlqGoVV5R2Nu0', 'pageInfo': {'totalResults': 1, 'resultsPerPage': 5}, 'items': [{'kind': 'youtube#channel', 'etag': 'GkSxE3NLeC7w3iss0TpFjUBxLx0', 'id': 'UC3lYGDxVFqsgBDgtxHTF3YA', 'snippet': {'title': 'Gezmeyi Bilican', 'description': 'Bilican ailesi sizin için geziyor.\\n\\nİletişim: gezmeyibilican@gmail.com', 'customUrl': '@gezmeyibilican', 'publishedAt': '2021-08-17T13:17:57.983987Z', 'thumbnails': {'default': {'url': 'https://yt3.ggpht.com/cJfXYWJfaSm134RmMEJZ6Cax2PJG-X_XcBBBRVM-0hbCO5jhcaU3TVL7VpYQEr1DOw-Joub8=s88-c-k-c0x00ffffff-no-rj', 'width': 88, 'height': 88}, 'medium': {'url': 'https://yt3.ggpht.com/cJfXYWJfaSm134RmMEJZ6Cax2PJG-X_XcBBBRVM-0hbCO5jhcaU3TVL7VpYQEr1DOw-Joub8=s240-c-k-c0x00ffffff-no-rj', 'width': 240, 'height': 240}, 'high': {'url': 'https://yt3.ggpht.com/cJfXYWJfaSm134RmMEJZ6Cax2PJG-X_XcBBBRVM-0hbCO5jhcaU3TVL7VpYQEr1DOw-Joub8=s800-c-k-c0x00ffffff-no-rj', 'width': 800, 'height': 800}}, 'localized': {'title': 'Gezmeyi Bilican', 'description': 'Bilican ailesi sizin için geziyor.\\n\\nİletişim: gezmeyibilican@gmail.com'}, 'country': 'TR'}, 'contentDetails': {'relatedPlaylists': {'likes': '', 'uploads': 'UU3lYGDxVFqsgBDgtxHTF3YA'}}, 'statistics': {'viewCount': '1905041', 'subscriberCount': '24400', 'hiddenSubscriberCount': False, 'videoCount': '47'}}]}\n"
     ]
    }
   ],
   "source": [
    "request = youtube.channels().list(\n",
    "    part=\"snippet,contentDetails,statistics\",\n",
    "    id=\",\".join(channel_ids)\n",
    ")\n",
    "response = request.execute()\n",
    "\n",
    "print(response)"
   ]
  },
  {
   "cell_type": "code",
   "execution_count": 9,
   "metadata": {},
   "outputs": [
    {
     "data": {
      "application/json": {
       "etag": "nkfGIgwVKFRypCwlqGoVV5R2Nu0",
       "items": [
        {
         "contentDetails": {
          "relatedPlaylists": {
           "likes": "",
           "uploads": "UU3lYGDxVFqsgBDgtxHTF3YA"
          }
         },
         "etag": "GkSxE3NLeC7w3iss0TpFjUBxLx0",
         "id": "UC3lYGDxVFqsgBDgtxHTF3YA",
         "kind": "youtube#channel",
         "snippet": {
          "country": "TR",
          "customUrl": "@gezmeyibilican",
          "description": "Bilican ailesi sizin için geziyor.\n\nİletişim: gezmeyibilican@gmail.com",
          "localized": {
           "description": "Bilican ailesi sizin için geziyor.\n\nİletişim: gezmeyibilican@gmail.com",
           "title": "Gezmeyi Bilican"
          },
          "publishedAt": "2021-08-17T13:17:57.983987Z",
          "thumbnails": {
           "default": {
            "height": 88,
            "url": "https://yt3.ggpht.com/cJfXYWJfaSm134RmMEJZ6Cax2PJG-X_XcBBBRVM-0hbCO5jhcaU3TVL7VpYQEr1DOw-Joub8=s88-c-k-c0x00ffffff-no-rj",
            "width": 88
           },
           "high": {
            "height": 800,
            "url": "https://yt3.ggpht.com/cJfXYWJfaSm134RmMEJZ6Cax2PJG-X_XcBBBRVM-0hbCO5jhcaU3TVL7VpYQEr1DOw-Joub8=s800-c-k-c0x00ffffff-no-rj",
            "width": 800
           },
           "medium": {
            "height": 240,
            "url": "https://yt3.ggpht.com/cJfXYWJfaSm134RmMEJZ6Cax2PJG-X_XcBBBRVM-0hbCO5jhcaU3TVL7VpYQEr1DOw-Joub8=s240-c-k-c0x00ffffff-no-rj",
            "width": 240
           }
          },
          "title": "Gezmeyi Bilican"
         },
         "statistics": {
          "hiddenSubscriberCount": false,
          "subscriberCount": "24400",
          "videoCount": "47",
          "viewCount": "1905041"
         }
        }
       ],
       "kind": "youtube#channelListResponse",
       "pageInfo": {
        "resultsPerPage": 5,
        "totalResults": 1
       }
      },
      "text/plain": [
       "<IPython.core.display.JSON object>"
      ]
     },
     "execution_count": 9,
     "metadata": {
      "application/json": {
       "expanded": false,
       "root": "root"
      }
     },
     "output_type": "execute_result"
    }
   ],
   "source": [
    "JSON(response)"
   ]
  }
 ],
 "metadata": {
  "kernelspec": {
   "display_name": "Python 3",
   "language": "python",
   "name": "python3"
  },
  "language_info": {
   "codemirror_mode": {
    "name": "ipython",
    "version": 3
   },
   "file_extension": ".py",
   "mimetype": "text/x-python",
   "name": "python",
   "nbconvert_exporter": "python",
   "pygments_lexer": "ipython3",
   "version": "3.11.5"
  }
 },
 "nbformat": 4,
 "nbformat_minor": 2
}
