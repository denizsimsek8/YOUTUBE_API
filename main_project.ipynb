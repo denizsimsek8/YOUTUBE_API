{
 "cells": [
  {
   "cell_type": "code",
   "execution_count": 1,
   "metadata": {},
   "outputs": [],
   "source": [
    "import pandas as pd\n",
    "from config.config import YOUTUBE_API_KEY\n",
    "from googleapiclient.discovery import build\n",
    "from IPython.display import JSON"
   ]
  },
  {
   "cell_type": "code",
   "execution_count": 2,
   "metadata": {},
   "outputs": [],
   "source": [
    "api_service_name = \"youtube\"\n",
    "api_version = \"v3\""
   ]
  },
  {
   "cell_type": "code",
   "execution_count": 3,
   "metadata": {},
   "outputs": [],
   "source": [
    "channel_ids = [\n",
    "    \"UC3lYGDxVFqsgBDgtxHTF3YA\"\n",
    "]"
   ]
  },
  {
   "cell_type": "code",
   "execution_count": 4,
   "metadata": {},
   "outputs": [],
   "source": [
    "youtube = build(api_service_name, api_version, developerKey=YOUTUBE_API_KEY)"
   ]
  },
  {
   "cell_type": "code",
   "execution_count": 5,
   "metadata": {},
   "outputs": [
    {
     "name": "stdout",
     "output_type": "stream",
     "text": [
      "{'kind': 'youtube#channelListResponse', 'etag': 'fOhiMAc4uh_W9Z-8ct1mCUr1k0U', 'pageInfo': {'totalResults': 1, 'resultsPerPage': 5}, 'items': [{'kind': 'youtube#channel', 'etag': 'k0h01CR4LhK3pUBBu_RcGcBFz5w', 'id': 'UC3lYGDxVFqsgBDgtxHTF3YA', 'snippet': {'title': 'Gezmeyi Bilican', 'description': 'Bilican ailesi sizin için geziyor.\\n\\nİletişim: gezmeyibilican@gmail.com', 'customUrl': '@gezmeyibilican', 'publishedAt': '2021-08-17T13:17:57.983987Z', 'thumbnails': {'default': {'url': 'https://yt3.ggpht.com/cJfXYWJfaSm134RmMEJZ6Cax2PJG-X_XcBBBRVM-0hbCO5jhcaU3TVL7VpYQEr1DOw-Joub8=s88-c-k-c0x00ffffff-no-rj', 'width': 88, 'height': 88}, 'medium': {'url': 'https://yt3.ggpht.com/cJfXYWJfaSm134RmMEJZ6Cax2PJG-X_XcBBBRVM-0hbCO5jhcaU3TVL7VpYQEr1DOw-Joub8=s240-c-k-c0x00ffffff-no-rj', 'width': 240, 'height': 240}, 'high': {'url': 'https://yt3.ggpht.com/cJfXYWJfaSm134RmMEJZ6Cax2PJG-X_XcBBBRVM-0hbCO5jhcaU3TVL7VpYQEr1DOw-Joub8=s800-c-k-c0x00ffffff-no-rj', 'width': 800, 'height': 800}}, 'localized': {'title': 'Gezmeyi Bilican', 'description': 'Bilican ailesi sizin için geziyor.\\n\\nİletişim: gezmeyibilican@gmail.com'}, 'country': 'TR'}, 'contentDetails': {'relatedPlaylists': {'likes': '', 'uploads': 'UU3lYGDxVFqsgBDgtxHTF3YA'}}, 'statistics': {'viewCount': '1922918', 'subscriberCount': '24600', 'hiddenSubscriberCount': False, 'videoCount': '47'}}]}\n"
     ]
    }
   ],
   "source": [
    "request = youtube.channels().list(\n",
    "    part=\"snippet,contentDetails,statistics\",\n",
    "    id=\",\".join(channel_ids)\n",
    ")\n",
    "response = request.execute()\n",
    "\n",
    "print(response)"
   ]
  },
  {
   "cell_type": "code",
   "execution_count": 7,
   "metadata": {},
   "outputs": [
    {
     "data": {
      "application/json": {
       "etag": "fOhiMAc4uh_W9Z-8ct1mCUr1k0U",
       "items": [
        {
         "contentDetails": {
          "relatedPlaylists": {
           "likes": "",
           "uploads": "UU3lYGDxVFqsgBDgtxHTF3YA"
          }
         },
         "etag": "k0h01CR4LhK3pUBBu_RcGcBFz5w",
         "id": "UC3lYGDxVFqsgBDgtxHTF3YA",
         "kind": "youtube#channel",
         "snippet": {
          "country": "TR",
          "customUrl": "@gezmeyibilican",
          "description": "Bilican ailesi sizin için geziyor.\n\nİletişim: gezmeyibilican@gmail.com",
          "localized": {
           "description": "Bilican ailesi sizin için geziyor.\n\nİletişim: gezmeyibilican@gmail.com",
           "title": "Gezmeyi Bilican"
          },
          "publishedAt": "2021-08-17T13:17:57.983987Z",
          "thumbnails": {
           "default": {
            "height": 88,
            "url": "https://yt3.ggpht.com/cJfXYWJfaSm134RmMEJZ6Cax2PJG-X_XcBBBRVM-0hbCO5jhcaU3TVL7VpYQEr1DOw-Joub8=s88-c-k-c0x00ffffff-no-rj",
            "width": 88
           },
           "high": {
            "height": 800,
            "url": "https://yt3.ggpht.com/cJfXYWJfaSm134RmMEJZ6Cax2PJG-X_XcBBBRVM-0hbCO5jhcaU3TVL7VpYQEr1DOw-Joub8=s800-c-k-c0x00ffffff-no-rj",
            "width": 800
           },
           "medium": {
            "height": 240,
            "url": "https://yt3.ggpht.com/cJfXYWJfaSm134RmMEJZ6Cax2PJG-X_XcBBBRVM-0hbCO5jhcaU3TVL7VpYQEr1DOw-Joub8=s240-c-k-c0x00ffffff-no-rj",
            "width": 240
           }
          },
          "title": "Gezmeyi Bilican"
         },
         "statistics": {
          "hiddenSubscriberCount": false,
          "subscriberCount": "24600",
          "videoCount": "47",
          "viewCount": "1922918"
         }
        }
       ],
       "kind": "youtube#channelListResponse",
       "pageInfo": {
        "resultsPerPage": 5,
        "totalResults": 1
       }
      },
      "text/plain": [
       "<IPython.core.display.JSON object>"
      ]
     },
     "execution_count": 7,
     "metadata": {
      "application/json": {
       "expanded": false,
       "root": "root"
      }
     },
     "output_type": "execute_result"
    }
   ],
   "source": [
    "JSON(response)"
   ]
  },
  {
   "cell_type": "code",
   "execution_count": 8,
   "metadata": {},
   "outputs": [],
   "source": [
    "def collect_channel_stats(youtube, channel_ids):\n",
    "    request = youtube.channels().list(\n",
    "        part=\"statistics\",\n",
    "        id=\",\".join(channel_ids)\n",
    "    )\n",
    "    response = request.execute()\n",
    "    datas = []\n",
    "    for statistics in response['items']:\n",
    "        data = {'viewCount' : statistics['statistics']['viewCount'],\n",
    "                'subscriberCount' : statistics['statistics']['subscriberCount'],\n",
    "                'videoCount' : statistics['statistics']['videoCount'],\n",
    "        }\n",
    "        datas.append(data)     \n",
    "    return pd.DataFrame(datas)\n"
   ]
  },
  {
   "cell_type": "code",
   "execution_count": 9,
   "metadata": {},
   "outputs": [],
   "source": [
    "channel_stats = collect_channel_stats(youtube, channel_ids)"
   ]
  },
  {
   "cell_type": "code",
   "execution_count": 10,
   "metadata": {},
   "outputs": [
    {
     "data": {
      "text/html": [
       "<div>\n",
       "<style scoped>\n",
       "    .dataframe tbody tr th:only-of-type {\n",
       "        vertical-align: middle;\n",
       "    }\n",
       "\n",
       "    .dataframe tbody tr th {\n",
       "        vertical-align: top;\n",
       "    }\n",
       "\n",
       "    .dataframe thead th {\n",
       "        text-align: right;\n",
       "    }\n",
       "</style>\n",
       "<table border=\"1\" class=\"dataframe\">\n",
       "  <thead>\n",
       "    <tr style=\"text-align: right;\">\n",
       "      <th></th>\n",
       "      <th>viewCount</th>\n",
       "      <th>subscriberCount</th>\n",
       "      <th>videoCount</th>\n",
       "    </tr>\n",
       "  </thead>\n",
       "  <tbody>\n",
       "    <tr>\n",
       "      <th>0</th>\n",
       "      <td>1922918</td>\n",
       "      <td>24600</td>\n",
       "      <td>47</td>\n",
       "    </tr>\n",
       "  </tbody>\n",
       "</table>\n",
       "</div>"
      ],
      "text/plain": [
       "  viewCount subscriberCount videoCount\n",
       "0   1922918           24600         47"
      ]
     },
     "execution_count": 10,
     "metadata": {},
     "output_type": "execute_result"
    }
   ],
   "source": [
    "channel_stats"
   ]
  },
  {
   "cell_type": "code",
   "execution_count": 30,
   "metadata": {},
   "outputs": [],
   "source": [
    "page_info = response['items'][0]\n",
    "title = page_info['snippet']['title']\n",
    "published_at = page_info['snippet']['publishedAt']\n",
    "\n",
    "data = {\n",
    "    \"title\": [title],\n",
    "    \"published at\": [published_at],\n",
    "}\n",
    "\n",
    "video_df = pd.DataFrame(data)"
   ]
  },
  {
   "cell_type": "code",
   "execution_count": 31,
   "metadata": {},
   "outputs": [
    {
     "data": {
      "text/html": [
       "<div>\n",
       "<style scoped>\n",
       "    .dataframe tbody tr th:only-of-type {\n",
       "        vertical-align: middle;\n",
       "    }\n",
       "\n",
       "    .dataframe tbody tr th {\n",
       "        vertical-align: top;\n",
       "    }\n",
       "\n",
       "    .dataframe thead th {\n",
       "        text-align: right;\n",
       "    }\n",
       "</style>\n",
       "<table border=\"1\" class=\"dataframe\">\n",
       "  <thead>\n",
       "    <tr style=\"text-align: right;\">\n",
       "      <th></th>\n",
       "      <th>title</th>\n",
       "      <th>published at</th>\n",
       "    </tr>\n",
       "  </thead>\n",
       "  <tbody>\n",
       "    <tr>\n",
       "      <th>0</th>\n",
       "      <td>Milano'ya Bir Tren Uzaklığındaki Cennet | Como...</td>\n",
       "      <td>2022-12-13T11:08:23Z</td>\n",
       "    </tr>\n",
       "  </tbody>\n",
       "</table>\n",
       "</div>"
      ],
      "text/plain": [
       "                                               title          published at\n",
       "0  Milano'ya Bir Tren Uzaklığındaki Cennet | Como...  2022-12-13T11:08:23Z"
      ]
     },
     "execution_count": 31,
     "metadata": {},
     "output_type": "execute_result"
    }
   ],
   "source": [
    "video_df"
   ]
  },
  {
   "cell_type": "code",
   "execution_count": 17,
   "metadata": {},
   "outputs": [
    {
     "name": "stdout",
     "output_type": "stream",
     "text": [
      "{'kind': 'youtube#playlistItemListResponse', 'etag': 'G-74OYKUnm-OlkY6VEu7o82ZQqs', 'nextPageToken': 'EAAajgFQVDpDQVVpRURFeVJVWkNNMEl4UXpVM1JFVTBSVEVvQVVpRS0tMjYwY2VBQTFBQldrVWlRMmxLVVZSSE1XdGFNR04zVWxkV1ExTjZaRU5oTWpsR1RGWmtkbEZZVG01amVrNUhXakJ3UW1OdVZscE9WbTgwUldkM1NYQk1iVGx3WjFsUmIwMWxSSFpSUlNJ', 'items': [{'kind': 'youtube#playlistItem', 'etag': 'S-nAN6u4PDjf1uVtmvHEoMLjuo8', 'id': 'UExtZGdHMEVlQks3QmtvRS1Xb0FzZ3MzRmdKQXJ1WTVaOC41NkI0NEY2RDEwNTU3Q0M2', 'snippet': {'publishedAt': '2022-12-13T11:08:23Z', 'channelId': 'UC3lYGDxVFqsgBDgtxHTF3YA', 'title': \"Milano'ya Bir Tren Uzaklığındaki Cennet | Como Gölü, Bellagio, Nesso, Varenna VLOG\", 'description': \"Milano'ya trenle 1 saat mesafedeki Kuzey İtalya'nın cennet yerlerini geziyoruz. Gezimizde Como Gölü ve çevresindeki Bellagio, Nesso ve Varenna kasabalarını bulabilirsiniz. \\n\\n#italya #como #gezi #bellagio #nesso #varenna #travel #gezilecekyerler #vlog \\n\\nVideo Edit : Fatih Deniz Karaçalı (@fdenizkaracali)\\n\\nEbrar Bilican Instagram: https://www.instagram.com/ebrar.bilican/\\nErinç Bilican Instagram : https://www.instagram.com/erincbilican/\\n\\nDiğer videolarımız:\\n➡️ EN UYGUN AVRUPA ŞEHRİ! Prag’ta mutlaka görmeniz gereken yerler. : https://youtu.be/4tKfiyt7nvE\\n➡️ Paris - Anlatıldığı Kadar Güzel Mi? : https://youtu.be/suUySdj5rLw\\n➡️ LYON: Fransa'nın Gastronomi Şehri : https://youtu.be/x_WNLgR4lOg\\n➡️ Arabayla Avrupa Turu: Belgrad, Budapeşte, Viyana, Hallstatt, Bled, Ljubljana, Zagreb : https://youtu.be/fW3Lye9aWZw\\n➡️ KIEV: Pasaportsuz, Vizesiz : https://youtu.be/chI-9D67wNg \\n➡️ Ürdün / Jordan | Petra, Wadi Rum, Wadi Mujib : https://youtu.be/g2TO9B-FC8g\\n➡️ Pandemide Vizesiz Yurtdışı Tatili: Kotor, Budva, Karadağ (Montenegro) : https://youtu.be/37l-xO6J9uw\", 'thumbnails': {'default': {'url': 'https://i.ytimg.com/vi/CfK5BATjvd8/default.jpg', 'width': 120, 'height': 90}, 'medium': {'url': 'https://i.ytimg.com/vi/CfK5BATjvd8/mqdefault.jpg', 'width': 320, 'height': 180}, 'high': {'url': 'https://i.ytimg.com/vi/CfK5BATjvd8/hqdefault.jpg', 'width': 480, 'height': 360}, 'standard': {'url': 'https://i.ytimg.com/vi/CfK5BATjvd8/sddefault.jpg', 'width': 640, 'height': 480}, 'maxres': {'url': 'https://i.ytimg.com/vi/CfK5BATjvd8/maxresdefault.jpg', 'width': 1280, 'height': 720}}, 'channelTitle': 'Gezmeyi Bilican', 'playlistId': 'PLmdgG0EeBK7BkoE-WoAsgs3FgJAruY5Z8', 'position': 0, 'resourceId': {'kind': 'youtube#video', 'videoId': 'CfK5BATjvd8'}, 'videoOwnerChannelTitle': 'Gezmeyi Bilican', 'videoOwnerChannelId': 'UC3lYGDxVFqsgBDgtxHTF3YA'}, 'contentDetails': {'videoId': 'CfK5BATjvd8', 'videoPublishedAt': '2022-11-01T11:04:18Z'}}, {'kind': 'youtube#playlistItem', 'etag': '6fecOStybtmYJhZnO95ifZ0tkkg', 'id': 'UExtZGdHMEVlQks3QmtvRS1Xb0FzZ3MzRmdKQXJ1WTVaOC4yODlGNEE0NkRGMEEzMEQy', 'snippet': {'publishedAt': '2022-12-13T11:08:23Z', 'channelId': 'UC3lYGDxVFqsgBDgtxHTF3YA', 'title': \"İtalya'nın Kartpostal Köyü | Positano, Napoli\", 'description': \"İtalya'nın üvey çocuğu olarak bilinen Napoli şehrini ve hemen dibindeki Amalfi Sahilleri'nde yer alan, kartpostal gibi manzarası olan Positano Köyü'nü geziyoruz.\\n\\n#italya #napoli  #gezi #positano  #amalficoast  #amalfi  #travel #gezilecekyerler #vlog \\n\\nVideo Edit : Fatih Deniz Karaçalı (@fdenizkaracali)\\n\\nEbrar Bilican Instagram: https://www.instagram.com/ebrar.bilican/\\nErinç Bilican Instagram : https://www.instagram.com/erincbilican/\\n\\nDiğer videolarımız:\\n➡️ EN UYGUN AVRUPA ŞEHRİ! Prag’ta mutlaka görmeniz gereken yerler. : https://youtu.be/4tKfiyt7nvE\\n➡️ Paris - Anlatıldığı Kadar Güzel Mi? : https://youtu.be/suUySdj5rLw\\n➡️ LYON: Fransa'nın Gastronomi Şehri : https://youtu.be/x_WNLgR4lOg\\n➡️ Arabayla Avrupa Turu: Belgrad, Budapeşte, Viyana, Hallstatt, Bled, Ljubljana, Zagreb : https://youtu.be/fW3Lye9aWZw\\n➡️ KIEV: Pasaportsuz, Vizesiz : https://youtu.be/chI-9D67wNg \\n➡️ Ürdün / Jordan | Petra, Wadi Rum, Wadi Mujib : https://youtu.be/g2TO9B-FC8g\\n➡️ Pandemide Vizesiz Yurtdışı Tatili: Kotor, Budva, Karadağ (Montenegro) : https://youtu.be/37l-xO6J9uw\", 'thumbnails': {'default': {'url': 'https://i.ytimg.com/vi/W0tTqURsUAE/default.jpg', 'width': 120, 'height': 90}, 'medium': {'url': 'https://i.ytimg.com/vi/W0tTqURsUAE/mqdefault.jpg', 'width': 320, 'height': 180}, 'high': {'url': 'https://i.ytimg.com/vi/W0tTqURsUAE/hqdefault.jpg', 'width': 480, 'height': 360}, 'standard': {'url': 'https://i.ytimg.com/vi/W0tTqURsUAE/sddefault.jpg', 'width': 640, 'height': 480}, 'maxres': {'url': 'https://i.ytimg.com/vi/W0tTqURsUAE/maxresdefault.jpg', 'width': 1280, 'height': 720}}, 'channelTitle': 'Gezmeyi Bilican', 'playlistId': 'PLmdgG0EeBK7BkoE-WoAsgs3FgJAruY5Z8', 'position': 1, 'resourceId': {'kind': 'youtube#video', 'videoId': 'W0tTqURsUAE'}, 'videoOwnerChannelTitle': 'Gezmeyi Bilican', 'videoOwnerChannelId': 'UC3lYGDxVFqsgBDgtxHTF3YA'}, 'contentDetails': {'videoId': 'W0tTqURsUAE', 'videoPublishedAt': '2022-11-08T12:14:33Z'}}, {'kind': 'youtube#playlistItem', 'etag': 'qw44NghEWgSoRCovHGPHxCKHaGw', 'id': 'UExtZGdHMEVlQks3QmtvRS1Xb0FzZ3MzRmdKQXJ1WTVaOC4wMTcyMDhGQUE4NTIzM0Y5', 'snippet': {'publishedAt': '2022-12-13T11:08:23Z', 'channelId': 'UC3lYGDxVFqsgBDgtxHTF3YA', 'title': '24 Saatte İtalya’nın Kızıl Şehri | Bologna', 'description': \"İtalya’nın kızıl şehri Bologna’yı geziyoruz.\\n\\n#italya #bologna #bolonya #gezi #travel #gezilecekyerler #vlog \\n\\nVideo Edit : Fatih Deniz Karaçalı (@fdenizkaracali)\\n\\nEbrar Bilican Instagram: https://www.instagram.com/ebrar.bilican/\\nErinç Bilican Instagram : https://www.instagram.com/erincbilican/\\n\\nDiğer videolarımız:\\n➡️ EN UYGUN AVRUPA ŞEHRİ! Prag’ta mutlaka görmeniz gereken yerler. : https://youtu.be/4tKfiyt7nvE\\n➡️ Paris - Anlatıldığı Kadar Güzel Mi? : https://youtu.be/suUySdj5rLw\\n➡️ LYON: Fransa'nın Gastronomi Şehri : https://youtu.be/x_WNLgR4lOg\\n➡️ Arabayla Avrupa Turu: Belgrad, Budapeşte, Viyana, Hallstatt, Bled, Ljubljana, Zagreb : https://youtu.be/fW3Lye9aWZw\\n➡️ KIEV: Pasaportsuz, Vizesiz : https://youtu.be/chI-9D67wNg \\n➡️ Ürdün / Jordan | Petra, Wadi Rum, Wadi Mujib : https://youtu.be/g2TO9B-FC8g\\n➡️ Pandemide Vizesiz Yurtdışı Tatili: Kotor, Budva, Karadağ (Montenegro) : https://youtu.be/37l-xO6J9uw\", 'thumbnails': {'default': {'url': 'https://i.ytimg.com/vi/X8G1idmHak8/default.jpg', 'width': 120, 'height': 90}, 'medium': {'url': 'https://i.ytimg.com/vi/X8G1idmHak8/mqdefault.jpg', 'width': 320, 'height': 180}, 'high': {'url': 'https://i.ytimg.com/vi/X8G1idmHak8/hqdefault.jpg', 'width': 480, 'height': 360}, 'standard': {'url': 'https://i.ytimg.com/vi/X8G1idmHak8/sddefault.jpg', 'width': 640, 'height': 480}, 'maxres': {'url': 'https://i.ytimg.com/vi/X8G1idmHak8/maxresdefault.jpg', 'width': 1280, 'height': 720}}, 'channelTitle': 'Gezmeyi Bilican', 'playlistId': 'PLmdgG0EeBK7BkoE-WoAsgs3FgJAruY5Z8', 'position': 2, 'resourceId': {'kind': 'youtube#video', 'videoId': 'X8G1idmHak8'}, 'videoOwnerChannelTitle': 'Gezmeyi Bilican', 'videoOwnerChannelId': 'UC3lYGDxVFqsgBDgtxHTF3YA'}, 'contentDetails': {'videoId': 'X8G1idmHak8', 'videoPublishedAt': '2022-11-29T15:19:39Z'}}, {'kind': 'youtube#playlistItem', 'etag': 'gmeNxpepIr4kJ5JtxPf9jvkKofo', 'id': 'UExtZGdHMEVlQks3QmtvRS1Xb0FzZ3MzRmdKQXJ1WTVaOC41MjE1MkI0OTQ2QzJGNzNG', 'snippet': {'publishedAt': '2023-01-29T08:49:12Z', 'channelId': 'UC3lYGDxVFqsgBDgtxHTF3YA', 'title': '24 Saatte Alplerin Başkenti | Torino , İtalya', 'description': \"Milano'ya sadece 1.5 saat mesafedeki İtalya'nın Torino şehrini geziyoruz.\\n\\n#torino #italya #gezi #vlog #italy #turín   \\n\\nVideo Edit : Fatih Deniz Karaçalı (@fdenizkaracali)\\n\\nEbrar Bilican Instagram: https://www.instagram.com/ebrar.bilican/\\nErinç Bilican Instagram : https://www.instagram.com/erincbilican/\\n\\nDiğer videolarımız:\\n➡️ EN UYGUN AVRUPA ŞEHRİ! Prag’ta mutlaka görmeniz gereken yerler. : https://youtu.be/4tKfiyt7nvE\\n➡️ Paris - Anlatıldığı Kadar Güzel Mi? : https://youtu.be/suUySdj5rLw\\n➡️ LYON: Fransa'nın Gastronomi Şehri : https://youtu.be/x_WNLgR4lOg\\n➡️ Arabayla Avrupa Turu: Belgrad, Budapeşte, Viyana, Hallstatt, Bled, Ljubljana, Zagreb : https://youtu.be/fW3Lye9aWZw\\n➡️ KIEV: Pasaportsuz, Vizesiz : https://youtu.be/chI-9D67wNg \\n➡️ Ürdün / Jordan | Petra, Wadi Rum, Wadi Mujib : https://youtu.be/g2TO9B-FC8g\\n➡️ Pandemide Vizesiz Yurtdışı Tatili: Kotor, Budva, Karadağ (Montenegro) : https://youtu.be/37l-xO6J9uw\\n0:00 Intro \\n0:27 Piazza San Carlo \\n1:47 Cattedrale di San Giovanni \\n2:15 Porta Palatina\\n3:08 Giardini Reali di Torino \\n4:19 Torteria Berlicabarbis\\n5:23 Mole Antonelliana\\n6:19 Galleria Subalpina\\n7:16 Cammafa \\n8:58 Kapanış\", 'thumbnails': {'default': {'url': 'https://i.ytimg.com/vi/1tANoTJapNo/default.jpg', 'width': 120, 'height': 90}, 'medium': {'url': 'https://i.ytimg.com/vi/1tANoTJapNo/mqdefault.jpg', 'width': 320, 'height': 180}, 'high': {'url': 'https://i.ytimg.com/vi/1tANoTJapNo/hqdefault.jpg', 'width': 480, 'height': 360}, 'standard': {'url': 'https://i.ytimg.com/vi/1tANoTJapNo/sddefault.jpg', 'width': 640, 'height': 480}, 'maxres': {'url': 'https://i.ytimg.com/vi/1tANoTJapNo/maxresdefault.jpg', 'width': 1280, 'height': 720}}, 'channelTitle': 'Gezmeyi Bilican', 'playlistId': 'PLmdgG0EeBK7BkoE-WoAsgs3FgJAruY5Z8', 'position': 3, 'resourceId': {'kind': 'youtube#video', 'videoId': '1tANoTJapNo'}, 'videoOwnerChannelTitle': 'Gezmeyi Bilican', 'videoOwnerChannelId': 'UC3lYGDxVFqsgBDgtxHTF3YA'}, 'contentDetails': {'videoId': '1tANoTJapNo', 'videoPublishedAt': '2023-01-29T09:01:15Z'}}, {'kind': 'youtube#playlistItem', 'etag': 'fKQhvuAPqNj-kf4WI2EdWZUt2vw', 'id': 'UExtZGdHMEVlQks3QmtvRS1Xb0FzZ3MzRmdKQXJ1WTVaOC4wOTA3OTZBNzVEMTUzOTMy', 'snippet': {'publishedAt': '2023-02-04T22:37:43Z', 'channelId': 'UC3lYGDxVFqsgBDgtxHTF3YA', 'title': 'Büyüleyici Şehir | Roma , İtalya', 'description': \"İtalya'nın başkenti, her karışı tarih ve sanat kokan Roma'yı geziyoruz.\\n\\n#roma #italya #gezi  #vlog  #italy  #rome    \\n\\nIntro : Mali Ergin\\n\\nEbrar Bilican Instagram: https://www.instagram.com/ebrar.bilican/\\n\\nErinç Bilican Instagram : https://www.instagram.com/erincbilican/\\n\\nVideo Edit : Fatih Deniz Karaçalı (@fdenizkaracali)\\n\\n0:00 Intro\\n0:51 Pantheon\\n3:00 Piazza Di Spagna\\n3:25 Piazza Navona\\n4:22 Lo Zozzone Pizza\\n6:35 Giolitti Dondurma\\n7:52 Castel Sant Angelo\\n8:32 Fontana Di Trevi\\n9:48 Villa Borghese\\n11:03 Vatican\\n13:32 Collesium\\n14:46 Forchetta D’oro\\n15:19 Via Dei Condotti\\n16:01 Roma Valiz Emanet\\n16:50 Trastevere\\n20:26 Tiber Nehri\\n21:26 Kapanış\", 'thumbnails': {'default': {'url': 'https://i.ytimg.com/vi/zzGfUBjXNnI/default.jpg', 'width': 120, 'height': 90}, 'medium': {'url': 'https://i.ytimg.com/vi/zzGfUBjXNnI/mqdefault.jpg', 'width': 320, 'height': 180}, 'high': {'url': 'https://i.ytimg.com/vi/zzGfUBjXNnI/hqdefault.jpg', 'width': 480, 'height': 360}, 'standard': {'url': 'https://i.ytimg.com/vi/zzGfUBjXNnI/sddefault.jpg', 'width': 640, 'height': 480}, 'maxres': {'url': 'https://i.ytimg.com/vi/zzGfUBjXNnI/maxresdefault.jpg', 'width': 1280, 'height': 720}}, 'channelTitle': 'Gezmeyi Bilican', 'playlistId': 'PLmdgG0EeBK7BkoE-WoAsgs3FgJAruY5Z8', 'position': 4, 'resourceId': {'kind': 'youtube#video', 'videoId': 'zzGfUBjXNnI'}, 'videoOwnerChannelTitle': 'Gezmeyi Bilican', 'videoOwnerChannelId': 'UC3lYGDxVFqsgBDgtxHTF3YA'}, 'contentDetails': {'videoId': 'zzGfUBjXNnI', 'videoPublishedAt': '2023-02-05T09:23:42Z'}}], 'pageInfo': {'totalResults': 9, 'resultsPerPage': 5}}\n"
     ]
    }
   ],
   "source": [
    "request = youtube.playlistItems().list(\n",
    "        part=\"snippet,contentDetails\",\n",
    "        playlistId=\"PLmdgG0EeBK7BkoE-WoAsgs3FgJAruY5Z8\"\n",
    "    )\n",
    "response = request.execute()\n",
    "print(response)"
   ]
  },
  {
   "cell_type": "code",
   "execution_count": 16,
   "metadata": {},
   "outputs": [
    {
     "data": {
      "application/json": {
       "etag": "G-74OYKUnm-OlkY6VEu7o82ZQqs",
       "items": [
        {
         "contentDetails": {
          "videoId": "CfK5BATjvd8",
          "videoPublishedAt": "2022-11-01T11:04:18Z"
         },
         "etag": "S-nAN6u4PDjf1uVtmvHEoMLjuo8",
         "id": "UExtZGdHMEVlQks3QmtvRS1Xb0FzZ3MzRmdKQXJ1WTVaOC41NkI0NEY2RDEwNTU3Q0M2",
         "kind": "youtube#playlistItem",
         "snippet": {
          "channelId": "UC3lYGDxVFqsgBDgtxHTF3YA",
          "channelTitle": "Gezmeyi Bilican",
          "description": "Milano'ya trenle 1 saat mesafedeki Kuzey İtalya'nın cennet yerlerini geziyoruz. Gezimizde Como Gölü ve çevresindeki Bellagio, Nesso ve Varenna kasabalarını bulabilirsiniz. \n\n#italya #como #gezi #bellagio #nesso #varenna #travel #gezilecekyerler #vlog \n\nVideo Edit : Fatih Deniz Karaçalı (@fdenizkaracali)\n\nEbrar Bilican Instagram: https://www.instagram.com/ebrar.bilican/\nErinç Bilican Instagram : https://www.instagram.com/erincbilican/\n\nDiğer videolarımız:\n➡️ EN UYGUN AVRUPA ŞEHRİ! Prag’ta mutlaka görmeniz gereken yerler. : https://youtu.be/4tKfiyt7nvE\n➡️ Paris - Anlatıldığı Kadar Güzel Mi? : https://youtu.be/suUySdj5rLw\n➡️ LYON: Fransa'nın Gastronomi Şehri : https://youtu.be/x_WNLgR4lOg\n➡️ Arabayla Avrupa Turu: Belgrad, Budapeşte, Viyana, Hallstatt, Bled, Ljubljana, Zagreb : https://youtu.be/fW3Lye9aWZw\n➡️ KIEV: Pasaportsuz, Vizesiz : https://youtu.be/chI-9D67wNg \n➡️ Ürdün / Jordan | Petra, Wadi Rum, Wadi Mujib : https://youtu.be/g2TO9B-FC8g\n➡️ Pandemide Vizesiz Yurtdışı Tatili: Kotor, Budva, Karadağ (Montenegro) : https://youtu.be/37l-xO6J9uw",
          "playlistId": "PLmdgG0EeBK7BkoE-WoAsgs3FgJAruY5Z8",
          "position": 0,
          "publishedAt": "2022-12-13T11:08:23Z",
          "resourceId": {
           "kind": "youtube#video",
           "videoId": "CfK5BATjvd8"
          },
          "thumbnails": {
           "default": {
            "height": 90,
            "url": "https://i.ytimg.com/vi/CfK5BATjvd8/default.jpg",
            "width": 120
           },
           "high": {
            "height": 360,
            "url": "https://i.ytimg.com/vi/CfK5BATjvd8/hqdefault.jpg",
            "width": 480
           },
           "maxres": {
            "height": 720,
            "url": "https://i.ytimg.com/vi/CfK5BATjvd8/maxresdefault.jpg",
            "width": 1280
           },
           "medium": {
            "height": 180,
            "url": "https://i.ytimg.com/vi/CfK5BATjvd8/mqdefault.jpg",
            "width": 320
           },
           "standard": {
            "height": 480,
            "url": "https://i.ytimg.com/vi/CfK5BATjvd8/sddefault.jpg",
            "width": 640
           }
          },
          "title": "Milano'ya Bir Tren Uzaklığındaki Cennet | Como Gölü, Bellagio, Nesso, Varenna VLOG",
          "videoOwnerChannelId": "UC3lYGDxVFqsgBDgtxHTF3YA",
          "videoOwnerChannelTitle": "Gezmeyi Bilican"
         }
        },
        {
         "contentDetails": {
          "videoId": "W0tTqURsUAE",
          "videoPublishedAt": "2022-11-08T12:14:33Z"
         },
         "etag": "6fecOStybtmYJhZnO95ifZ0tkkg",
         "id": "UExtZGdHMEVlQks3QmtvRS1Xb0FzZ3MzRmdKQXJ1WTVaOC4yODlGNEE0NkRGMEEzMEQy",
         "kind": "youtube#playlistItem",
         "snippet": {
          "channelId": "UC3lYGDxVFqsgBDgtxHTF3YA",
          "channelTitle": "Gezmeyi Bilican",
          "description": "İtalya'nın üvey çocuğu olarak bilinen Napoli şehrini ve hemen dibindeki Amalfi Sahilleri'nde yer alan, kartpostal gibi manzarası olan Positano Köyü'nü geziyoruz.\n\n#italya #napoli  #gezi #positano  #amalficoast  #amalfi  #travel #gezilecekyerler #vlog \n\nVideo Edit : Fatih Deniz Karaçalı (@fdenizkaracali)\n\nEbrar Bilican Instagram: https://www.instagram.com/ebrar.bilican/\nErinç Bilican Instagram : https://www.instagram.com/erincbilican/\n\nDiğer videolarımız:\n➡️ EN UYGUN AVRUPA ŞEHRİ! Prag’ta mutlaka görmeniz gereken yerler. : https://youtu.be/4tKfiyt7nvE\n➡️ Paris - Anlatıldığı Kadar Güzel Mi? : https://youtu.be/suUySdj5rLw\n➡️ LYON: Fransa'nın Gastronomi Şehri : https://youtu.be/x_WNLgR4lOg\n➡️ Arabayla Avrupa Turu: Belgrad, Budapeşte, Viyana, Hallstatt, Bled, Ljubljana, Zagreb : https://youtu.be/fW3Lye9aWZw\n➡️ KIEV: Pasaportsuz, Vizesiz : https://youtu.be/chI-9D67wNg \n➡️ Ürdün / Jordan | Petra, Wadi Rum, Wadi Mujib : https://youtu.be/g2TO9B-FC8g\n➡️ Pandemide Vizesiz Yurtdışı Tatili: Kotor, Budva, Karadağ (Montenegro) : https://youtu.be/37l-xO6J9uw",
          "playlistId": "PLmdgG0EeBK7BkoE-WoAsgs3FgJAruY5Z8",
          "position": 1,
          "publishedAt": "2022-12-13T11:08:23Z",
          "resourceId": {
           "kind": "youtube#video",
           "videoId": "W0tTqURsUAE"
          },
          "thumbnails": {
           "default": {
            "height": 90,
            "url": "https://i.ytimg.com/vi/W0tTqURsUAE/default.jpg",
            "width": 120
           },
           "high": {
            "height": 360,
            "url": "https://i.ytimg.com/vi/W0tTqURsUAE/hqdefault.jpg",
            "width": 480
           },
           "maxres": {
            "height": 720,
            "url": "https://i.ytimg.com/vi/W0tTqURsUAE/maxresdefault.jpg",
            "width": 1280
           },
           "medium": {
            "height": 180,
            "url": "https://i.ytimg.com/vi/W0tTqURsUAE/mqdefault.jpg",
            "width": 320
           },
           "standard": {
            "height": 480,
            "url": "https://i.ytimg.com/vi/W0tTqURsUAE/sddefault.jpg",
            "width": 640
           }
          },
          "title": "İtalya'nın Kartpostal Köyü | Positano, Napoli",
          "videoOwnerChannelId": "UC3lYGDxVFqsgBDgtxHTF3YA",
          "videoOwnerChannelTitle": "Gezmeyi Bilican"
         }
        },
        {
         "contentDetails": {
          "videoId": "X8G1idmHak8",
          "videoPublishedAt": "2022-11-29T15:19:39Z"
         },
         "etag": "qw44NghEWgSoRCovHGPHxCKHaGw",
         "id": "UExtZGdHMEVlQks3QmtvRS1Xb0FzZ3MzRmdKQXJ1WTVaOC4wMTcyMDhGQUE4NTIzM0Y5",
         "kind": "youtube#playlistItem",
         "snippet": {
          "channelId": "UC3lYGDxVFqsgBDgtxHTF3YA",
          "channelTitle": "Gezmeyi Bilican",
          "description": "İtalya’nın kızıl şehri Bologna’yı geziyoruz.\n\n#italya #bologna #bolonya #gezi #travel #gezilecekyerler #vlog \n\nVideo Edit : Fatih Deniz Karaçalı (@fdenizkaracali)\n\nEbrar Bilican Instagram: https://www.instagram.com/ebrar.bilican/\nErinç Bilican Instagram : https://www.instagram.com/erincbilican/\n\nDiğer videolarımız:\n➡️ EN UYGUN AVRUPA ŞEHRİ! Prag’ta mutlaka görmeniz gereken yerler. : https://youtu.be/4tKfiyt7nvE\n➡️ Paris - Anlatıldığı Kadar Güzel Mi? : https://youtu.be/suUySdj5rLw\n➡️ LYON: Fransa'nın Gastronomi Şehri : https://youtu.be/x_WNLgR4lOg\n➡️ Arabayla Avrupa Turu: Belgrad, Budapeşte, Viyana, Hallstatt, Bled, Ljubljana, Zagreb : https://youtu.be/fW3Lye9aWZw\n➡️ KIEV: Pasaportsuz, Vizesiz : https://youtu.be/chI-9D67wNg \n➡️ Ürdün / Jordan | Petra, Wadi Rum, Wadi Mujib : https://youtu.be/g2TO9B-FC8g\n➡️ Pandemide Vizesiz Yurtdışı Tatili: Kotor, Budva, Karadağ (Montenegro) : https://youtu.be/37l-xO6J9uw",
          "playlistId": "PLmdgG0EeBK7BkoE-WoAsgs3FgJAruY5Z8",
          "position": 2,
          "publishedAt": "2022-12-13T11:08:23Z",
          "resourceId": {
           "kind": "youtube#video",
           "videoId": "X8G1idmHak8"
          },
          "thumbnails": {
           "default": {
            "height": 90,
            "url": "https://i.ytimg.com/vi/X8G1idmHak8/default.jpg",
            "width": 120
           },
           "high": {
            "height": 360,
            "url": "https://i.ytimg.com/vi/X8G1idmHak8/hqdefault.jpg",
            "width": 480
           },
           "maxres": {
            "height": 720,
            "url": "https://i.ytimg.com/vi/X8G1idmHak8/maxresdefault.jpg",
            "width": 1280
           },
           "medium": {
            "height": 180,
            "url": "https://i.ytimg.com/vi/X8G1idmHak8/mqdefault.jpg",
            "width": 320
           },
           "standard": {
            "height": 480,
            "url": "https://i.ytimg.com/vi/X8G1idmHak8/sddefault.jpg",
            "width": 640
           }
          },
          "title": "24 Saatte İtalya’nın Kızıl Şehri | Bologna",
          "videoOwnerChannelId": "UC3lYGDxVFqsgBDgtxHTF3YA",
          "videoOwnerChannelTitle": "Gezmeyi Bilican"
         }
        },
        {
         "contentDetails": {
          "videoId": "1tANoTJapNo",
          "videoPublishedAt": "2023-01-29T09:01:15Z"
         },
         "etag": "gmeNxpepIr4kJ5JtxPf9jvkKofo",
         "id": "UExtZGdHMEVlQks3QmtvRS1Xb0FzZ3MzRmdKQXJ1WTVaOC41MjE1MkI0OTQ2QzJGNzNG",
         "kind": "youtube#playlistItem",
         "snippet": {
          "channelId": "UC3lYGDxVFqsgBDgtxHTF3YA",
          "channelTitle": "Gezmeyi Bilican",
          "description": "Milano'ya sadece 1.5 saat mesafedeki İtalya'nın Torino şehrini geziyoruz.\n\n#torino #italya #gezi #vlog #italy #turín   \n\nVideo Edit : Fatih Deniz Karaçalı (@fdenizkaracali)\n\nEbrar Bilican Instagram: https://www.instagram.com/ebrar.bilican/\nErinç Bilican Instagram : https://www.instagram.com/erincbilican/\n\nDiğer videolarımız:\n➡️ EN UYGUN AVRUPA ŞEHRİ! Prag’ta mutlaka görmeniz gereken yerler. : https://youtu.be/4tKfiyt7nvE\n➡️ Paris - Anlatıldığı Kadar Güzel Mi? : https://youtu.be/suUySdj5rLw\n➡️ LYON: Fransa'nın Gastronomi Şehri : https://youtu.be/x_WNLgR4lOg\n➡️ Arabayla Avrupa Turu: Belgrad, Budapeşte, Viyana, Hallstatt, Bled, Ljubljana, Zagreb : https://youtu.be/fW3Lye9aWZw\n➡️ KIEV: Pasaportsuz, Vizesiz : https://youtu.be/chI-9D67wNg \n➡️ Ürdün / Jordan | Petra, Wadi Rum, Wadi Mujib : https://youtu.be/g2TO9B-FC8g\n➡️ Pandemide Vizesiz Yurtdışı Tatili: Kotor, Budva, Karadağ (Montenegro) : https://youtu.be/37l-xO6J9uw\n0:00 Intro \n0:27 Piazza San Carlo \n1:47 Cattedrale di San Giovanni \n2:15 Porta Palatina\n3:08 Giardini Reali di Torino \n4:19 Torteria Berlicabarbis\n5:23 Mole Antonelliana\n6:19 Galleria Subalpina\n7:16 Cammafa \n8:58 Kapanış",
          "playlistId": "PLmdgG0EeBK7BkoE-WoAsgs3FgJAruY5Z8",
          "position": 3,
          "publishedAt": "2023-01-29T08:49:12Z",
          "resourceId": {
           "kind": "youtube#video",
           "videoId": "1tANoTJapNo"
          },
          "thumbnails": {
           "default": {
            "height": 90,
            "url": "https://i.ytimg.com/vi/1tANoTJapNo/default.jpg",
            "width": 120
           },
           "high": {
            "height": 360,
            "url": "https://i.ytimg.com/vi/1tANoTJapNo/hqdefault.jpg",
            "width": 480
           },
           "maxres": {
            "height": 720,
            "url": "https://i.ytimg.com/vi/1tANoTJapNo/maxresdefault.jpg",
            "width": 1280
           },
           "medium": {
            "height": 180,
            "url": "https://i.ytimg.com/vi/1tANoTJapNo/mqdefault.jpg",
            "width": 320
           },
           "standard": {
            "height": 480,
            "url": "https://i.ytimg.com/vi/1tANoTJapNo/sddefault.jpg",
            "width": 640
           }
          },
          "title": "24 Saatte Alplerin Başkenti | Torino , İtalya",
          "videoOwnerChannelId": "UC3lYGDxVFqsgBDgtxHTF3YA",
          "videoOwnerChannelTitle": "Gezmeyi Bilican"
         }
        },
        {
         "contentDetails": {
          "videoId": "zzGfUBjXNnI",
          "videoPublishedAt": "2023-02-05T09:23:42Z"
         },
         "etag": "fKQhvuAPqNj-kf4WI2EdWZUt2vw",
         "id": "UExtZGdHMEVlQks3QmtvRS1Xb0FzZ3MzRmdKQXJ1WTVaOC4wOTA3OTZBNzVEMTUzOTMy",
         "kind": "youtube#playlistItem",
         "snippet": {
          "channelId": "UC3lYGDxVFqsgBDgtxHTF3YA",
          "channelTitle": "Gezmeyi Bilican",
          "description": "İtalya'nın başkenti, her karışı tarih ve sanat kokan Roma'yı geziyoruz.\n\n#roma #italya #gezi  #vlog  #italy  #rome    \n\nIntro : Mali Ergin\n\nEbrar Bilican Instagram: https://www.instagram.com/ebrar.bilican/\n\nErinç Bilican Instagram : https://www.instagram.com/erincbilican/\n\nVideo Edit : Fatih Deniz Karaçalı (@fdenizkaracali)\n\n0:00 Intro\n0:51 Pantheon\n3:00 Piazza Di Spagna\n3:25 Piazza Navona\n4:22 Lo Zozzone Pizza\n6:35 Giolitti Dondurma\n7:52 Castel Sant Angelo\n8:32 Fontana Di Trevi\n9:48 Villa Borghese\n11:03 Vatican\n13:32 Collesium\n14:46 Forchetta D’oro\n15:19 Via Dei Condotti\n16:01 Roma Valiz Emanet\n16:50 Trastevere\n20:26 Tiber Nehri\n21:26 Kapanış",
          "playlistId": "PLmdgG0EeBK7BkoE-WoAsgs3FgJAruY5Z8",
          "position": 4,
          "publishedAt": "2023-02-04T22:37:43Z",
          "resourceId": {
           "kind": "youtube#video",
           "videoId": "zzGfUBjXNnI"
          },
          "thumbnails": {
           "default": {
            "height": 90,
            "url": "https://i.ytimg.com/vi/zzGfUBjXNnI/default.jpg",
            "width": 120
           },
           "high": {
            "height": 360,
            "url": "https://i.ytimg.com/vi/zzGfUBjXNnI/hqdefault.jpg",
            "width": 480
           },
           "maxres": {
            "height": 720,
            "url": "https://i.ytimg.com/vi/zzGfUBjXNnI/maxresdefault.jpg",
            "width": 1280
           },
           "medium": {
            "height": 180,
            "url": "https://i.ytimg.com/vi/zzGfUBjXNnI/mqdefault.jpg",
            "width": 320
           },
           "standard": {
            "height": 480,
            "url": "https://i.ytimg.com/vi/zzGfUBjXNnI/sddefault.jpg",
            "width": 640
           }
          },
          "title": "Büyüleyici Şehir | Roma , İtalya",
          "videoOwnerChannelId": "UC3lYGDxVFqsgBDgtxHTF3YA",
          "videoOwnerChannelTitle": "Gezmeyi Bilican"
         }
        }
       ],
       "kind": "youtube#playlistItemListResponse",
       "nextPageToken": "EAAajgFQVDpDQVVpRURFeVJVWkNNMEl4UXpVM1JFVTBSVEVvQVVpRS0tMjYwY2VBQTFBQldrVWlRMmxLVVZSSE1XdGFNR04zVWxkV1ExTjZaRU5oTWpsR1RGWmtkbEZZVG01amVrNUhXakJ3UW1OdVZscE9WbTgwUldkM1NYQk1iVGx3WjFsUmIwMWxSSFpSUlNJ",
       "pageInfo": {
        "resultsPerPage": 5,
        "totalResults": 9
       }
      },
      "text/plain": [
       "<IPython.core.display.JSON object>"
      ]
     },
     "execution_count": 16,
     "metadata": {
      "application/json": {
       "expanded": false,
       "root": "root"
      }
     },
     "output_type": "execute_result"
    }
   ],
   "source": [
    "JSON(response)"
   ]
  },
  {
   "cell_type": "code",
   "execution_count": 18,
   "metadata": {},
   "outputs": [],
   "source": [
    "def get_video_ids(youtube, playlist_id):\n",
    "    video_ids = []\n",
    "\n",
    "    request = youtube.playlistItems().list(\n",
    "            part=\"snippet,contentDetails\",\n",
    "            playlistId=playlist_id\n",
    "        )\n",
    "    response = request.execute()\n",
    "\n",
    "    for item in response['items']:\n",
    "        video_ids.append(item['contentDetails']['videoId'])\n",
    "    return pd.DataFrame(video_ids)"
   ]
  },
  {
   "cell_type": "code",
   "execution_count": 20,
   "metadata": {},
   "outputs": [],
   "source": [
    "playlist_id = \"PLmdgG0EeBK7BkoE-WoAsgs3FgJAruY5Z8\"\n",
    "\n",
    "video_ids = get_video_ids(youtube, playlist_id)"
   ]
  },
  {
   "cell_type": "code",
   "execution_count": 21,
   "metadata": {},
   "outputs": [
    {
     "data": {
      "text/html": [
       "<div>\n",
       "<style scoped>\n",
       "    .dataframe tbody tr th:only-of-type {\n",
       "        vertical-align: middle;\n",
       "    }\n",
       "\n",
       "    .dataframe tbody tr th {\n",
       "        vertical-align: top;\n",
       "    }\n",
       "\n",
       "    .dataframe thead th {\n",
       "        text-align: right;\n",
       "    }\n",
       "</style>\n",
       "<table border=\"1\" class=\"dataframe\">\n",
       "  <thead>\n",
       "    <tr style=\"text-align: right;\">\n",
       "      <th></th>\n",
       "      <th>0</th>\n",
       "    </tr>\n",
       "  </thead>\n",
       "  <tbody>\n",
       "    <tr>\n",
       "      <th>0</th>\n",
       "      <td>CfK5BATjvd8</td>\n",
       "    </tr>\n",
       "    <tr>\n",
       "      <th>1</th>\n",
       "      <td>W0tTqURsUAE</td>\n",
       "    </tr>\n",
       "    <tr>\n",
       "      <th>2</th>\n",
       "      <td>X8G1idmHak8</td>\n",
       "    </tr>\n",
       "    <tr>\n",
       "      <th>3</th>\n",
       "      <td>1tANoTJapNo</td>\n",
       "    </tr>\n",
       "    <tr>\n",
       "      <th>4</th>\n",
       "      <td>zzGfUBjXNnI</td>\n",
       "    </tr>\n",
       "  </tbody>\n",
       "</table>\n",
       "</div>"
      ],
      "text/plain": [
       "             0\n",
       "0  CfK5BATjvd8\n",
       "1  W0tTqURsUAE\n",
       "2  X8G1idmHak8\n",
       "3  1tANoTJapNo\n",
       "4  zzGfUBjXNnI"
      ]
     },
     "execution_count": 21,
     "metadata": {},
     "output_type": "execute_result"
    }
   ],
   "source": [
    "video_ids"
   ]
  },
  {
   "cell_type": "code",
   "execution_count": 22,
   "metadata": {},
   "outputs": [],
   "source": [
    "def get_video_ids(youtube, playlist_id):\n",
    "    video_ids = []\n",
    "\n",
    "    request = youtube.playlistItems().list(\n",
    "            part=\"snippet,contentDetails\",\n",
    "            playlistId=playlist_id,\n",
    "            maxResults=50\n",
    "        )\n",
    "    response = request.execute()\n",
    "\n",
    "    for item in response['items']:\n",
    "        video_ids.append(item['contentDetails']['videoId'])\n",
    "\n",
    "    next_page_token = response.get('nextPageToken')\n",
    "    \n",
    "    while next_page_token is not None:\n",
    "        request = youtube.playlistItems().list(\n",
    "                part=\"snippet,contentDetails\",\n",
    "                playlistId=playlist_id,\n",
    "                maxResults=50,\n",
    "                pageToken=next_page_token\n",
    "            )\n",
    "        response = request.execute()\n",
    "\n",
    "        for item in response['items']:\n",
    "            video_ids.append(item['contentDetails']['videoId'])\n",
    "\n",
    "        next_page_token = response.get('nextPageToken')    \n",
    "\n",
    "        \n",
    "    return video_ids"
   ]
  },
  {
   "cell_type": "code",
   "execution_count": 24,
   "metadata": {},
   "outputs": [],
   "source": [
    "playlist_id = \"PLmdgG0EeBK7BkoE-WoAsgs3FgJAruY5Z8\"\n",
    "\n",
    "video_ids = get_video_ids(youtube, playlist_id)"
   ]
  },
  {
   "cell_type": "code",
   "execution_count": 25,
   "metadata": {},
   "outputs": [
    {
     "data": {
      "text/plain": [
       "9"
      ]
     },
     "execution_count": 25,
     "metadata": {},
     "output_type": "execute_result"
    }
   ],
   "source": [
    "len(video_ids)"
   ]
  },
  {
   "cell_type": "code",
   "execution_count": 34,
   "metadata": {},
   "outputs": [],
   "source": [
    "video_id = 'RU1OvxpY0_4'"
   ]
  },
  {
   "cell_type": "code",
   "execution_count": 37,
   "metadata": {},
   "outputs": [
    {
     "data": {
      "application/json": {
       "etag": "-VeQV5KnPXHCjwGHECVHqqVxEZY",
       "items": [
        {
         "etag": "PCtYsuhJjbN6lOWTSfEjkZBlDBs",
         "id": "RU1OvxpY0_4",
         "kind": "youtube#video",
         "snippet": {
          "categoryId": "19",
          "channelId": "UC3lYGDxVFqsgBDgtxHTF3YA",
          "channelTitle": "Gezmeyi Bilican",
          "defaultAudioLanguage": "tr",
          "defaultLanguage": "tr",
          "description": "Rönesansın doğduğu şehir olan Floransa'yı geziyoruz.\n\n#floransa #roma #firenze #italya #gezi #vlog #sokaklezzetleri \n\nEbrar Bilican Instagram: https://www.instagram.com/ebrar.bilican/\n\nErinç Bilican Instagram : https://www.instagram.com/erincbilican/\n\nVideo Edit : Fatih Deniz Karaçalı (@fdenizkaracali)\n\nDuomo Manzaralı Ev: https://www.booking.com/Share-Hj0LGoI\n\n2. Ev: https://www.booking.com/Share-OC1qtF\n\nUffizi Galerisi Resmi Sitesi: https://www.uffizi.it/en/tickets\n\n0:00 Intro\n1:23 Duomo Di Firenze\n3:21 L’Antico Trippaio\n4:16 Floransa Konaklama\n4:45 Floransa\n5:14 La Loggia Degli Albizi\n5:54 Fotoautomatica\n6:58 Duomo Manzaralı Teras\n9:52 Piazza della Repubblica\n10:45 Piazza della Signoria\n12:50 Ponte Vecchio\n13:30 Uffizi\n16:48 Vivoli Dondurma\n17:32 Basilica Di Santa Croce\n18:01 Floransa Konaklama\n19:10 Florence Steak\n20:40 Piazzale Michelangelo\n22:31 Kapanış",
          "liveBroadcastContent": "none",
          "localized": {
           "description": "Rönesansın doğduğu şehir olan Floransa'yı geziyoruz.\n\n#floransa #roma #firenze #italya #gezi #vlog #sokaklezzetleri \n\nEbrar Bilican Instagram: https://www.instagram.com/ebrar.bilican/\n\nErinç Bilican Instagram : https://www.instagram.com/erincbilican/\n\nVideo Edit : Fatih Deniz Karaçalı (@fdenizkaracali)\n\nDuomo Manzaralı Ev: https://www.booking.com/Share-Hj0LGoI\n\n2. Ev: https://www.booking.com/Share-OC1qtF\n\nUffizi Galerisi Resmi Sitesi: https://www.uffizi.it/en/tickets\n\n0:00 Intro\n1:23 Duomo Di Firenze\n3:21 L’Antico Trippaio\n4:16 Floransa Konaklama\n4:45 Floransa\n5:14 La Loggia Degli Albizi\n5:54 Fotoautomatica\n6:58 Duomo Manzaralı Teras\n9:52 Piazza della Repubblica\n10:45 Piazza della Signoria\n12:50 Ponte Vecchio\n13:30 Uffizi\n16:48 Vivoli Dondurma\n17:32 Basilica Di Santa Croce\n18:01 Floransa Konaklama\n19:10 Florence Steak\n20:40 Piazzale Michelangelo\n22:31 Kapanış",
           "title": "Dünyanın En Güzel Sokak Hamburgerini Yedik | Floransa , İtalya"
          },
          "publishedAt": "2023-07-02T08:51:09Z",
          "tags": [
           "floransa",
           "firenze",
           "florence",
           "italy",
           "italya",
           "floransa gezisi",
           "floransa vlog",
           "italya vlog",
           "italya turu",
           "italya yemekleri",
           "italya'da ne yenir",
           "floransa'da ne yenir",
           "italya sokak lezzetleri",
           "floransa'ya nasıl gidilir",
           "duomo",
           "floransa katedrali",
           "floransa'da konaklama",
           "uffizi",
           "avrupa turu",
           "schengen vizesi",
           "sokak lezzetleri",
           "erinç bilican",
           "ebrar bilican",
           "italya'da gezilecek yerler",
           "gezi",
           "vlog",
           "ucuz uçak",
           "italya oteller",
           "konaklama",
           "roma floransa",
           "roma",
           "floransa gezi rehberi",
           "vatikan",
           "flixbus"
          ],
          "thumbnails": {
           "default": {
            "height": 90,
            "url": "https://i.ytimg.com/vi/RU1OvxpY0_4/default.jpg",
            "width": 120
           },
           "high": {
            "height": 360,
            "url": "https://i.ytimg.com/vi/RU1OvxpY0_4/hqdefault.jpg",
            "width": 480
           },
           "maxres": {
            "height": 720,
            "url": "https://i.ytimg.com/vi/RU1OvxpY0_4/maxresdefault.jpg",
            "width": 1280
           },
           "medium": {
            "height": 180,
            "url": "https://i.ytimg.com/vi/RU1OvxpY0_4/mqdefault.jpg",
            "width": 320
           },
           "standard": {
            "height": 480,
            "url": "https://i.ytimg.com/vi/RU1OvxpY0_4/sddefault.jpg",
            "width": 640
           }
          },
          "title": "Dünyanın En Güzel Sokak Hamburgerini Yedik | Floransa , İtalya"
         },
         "statistics": {
          "commentCount": "99",
          "favoriteCount": "0",
          "likeCount": "1442",
          "viewCount": "65545"
         }
        }
       ],
       "kind": "youtube#videoListResponse",
       "pageInfo": {
        "resultsPerPage": 1,
        "totalResults": 1
       }
      },
      "text/plain": [
       "<IPython.core.display.JSON object>"
      ]
     },
     "execution_count": 37,
     "metadata": {
      "application/json": {
       "expanded": false,
       "root": "root"
      }
     },
     "output_type": "execute_result"
    }
   ],
   "source": [
    "request = youtube.videos().list(\n",
    "    part=\"snippet,statistics\",\n",
    "    id=video_id\n",
    ")\n",
    "response = request.execute()\n",
    "JSON(response)"
   ]
  },
  {
   "cell_type": "code",
   "execution_count": 39,
   "metadata": {},
   "outputs": [],
   "source": [
    "italy = response['items'][0]\n",
    "title = italy['snippet']['title']\n",
    "published_at = italy['snippet']['publishedAt']\n",
    "view_count = italy['statistics']['viewCount']\n",
    "like_count = italy['statistics']['likeCount']\n",
    "favorite_count = italy['statistics']['favoriteCount']\n",
    "comment_count = italy['statistics']['commentCount']\n",
    "\n",
    "datas = {\n",
    "    \"title\": [title],\n",
    "    \"published at\": [published_at],\n",
    "    \"view count\": [view_count],\n",
    "    \"like count\": [like_count],\n",
    "    \"favorite count\": [favorite_count],\n",
    "    \"comment_count\": [comment_count]\n",
    "}\n",
    "\n",
    "video_df = pd.DataFrame(datas)"
   ]
  },
  {
   "cell_type": "code",
   "execution_count": 41,
   "metadata": {},
   "outputs": [
    {
     "name": "stdout",
     "output_type": "stream",
     "text": [
      "Dünyanın En Güzel Sokak Hamburgerini Yedik | Floransa , İtalya\n",
      "2023-07-02T08:51:09Z\n",
      "65545\n",
      "1442\n",
      "0\n",
      "99\n"
     ]
    }
   ],
   "source": [
    "print(title)\n",
    "print(published_at)\n",
    "print(view_count)\n",
    "print(like_count)\n",
    "print(favorite_count)\n",
    "print(comment_count)"
   ]
  },
  {
   "cell_type": "code",
   "execution_count": 40,
   "metadata": {},
   "outputs": [
    {
     "data": {
      "text/html": [
       "<div>\n",
       "<style scoped>\n",
       "    .dataframe tbody tr th:only-of-type {\n",
       "        vertical-align: middle;\n",
       "    }\n",
       "\n",
       "    .dataframe tbody tr th {\n",
       "        vertical-align: top;\n",
       "    }\n",
       "\n",
       "    .dataframe thead th {\n",
       "        text-align: right;\n",
       "    }\n",
       "</style>\n",
       "<table border=\"1\" class=\"dataframe\">\n",
       "  <thead>\n",
       "    <tr style=\"text-align: right;\">\n",
       "      <th></th>\n",
       "      <th>title</th>\n",
       "      <th>published at</th>\n",
       "      <th>view count</th>\n",
       "      <th>like count</th>\n",
       "      <th>favorite count</th>\n",
       "      <th>comment_count</th>\n",
       "    </tr>\n",
       "  </thead>\n",
       "  <tbody>\n",
       "    <tr>\n",
       "      <th>0</th>\n",
       "      <td>Dünyanın En Güzel Sokak Hamburgerini Yedik | F...</td>\n",
       "      <td>2023-07-02T08:51:09Z</td>\n",
       "      <td>65545</td>\n",
       "      <td>1442</td>\n",
       "      <td>0</td>\n",
       "      <td>99</td>\n",
       "    </tr>\n",
       "  </tbody>\n",
       "</table>\n",
       "</div>"
      ],
      "text/plain": [
       "                                               title          published at  \\\n",
       "0  Dünyanın En Güzel Sokak Hamburgerini Yedik | F...  2023-07-02T08:51:09Z   \n",
       "\n",
       "  view count like count favorite count comment_count  \n",
       "0      65545       1442              0            99  "
      ]
     },
     "execution_count": 40,
     "metadata": {},
     "output_type": "execute_result"
    }
   ],
   "source": [
    "video_df"
   ]
  }
 ],
 "metadata": {
  "kernelspec": {
   "display_name": "Python 3",
   "language": "python",
   "name": "python3"
  },
  "language_info": {
   "codemirror_mode": {
    "name": "ipython",
    "version": 3
   },
   "file_extension": ".py",
   "mimetype": "text/x-python",
   "name": "python",
   "nbconvert_exporter": "python",
   "pygments_lexer": "ipython3",
   "version": "3.11.5"
  }
 },
 "nbformat": 4,
 "nbformat_minor": 2
}
