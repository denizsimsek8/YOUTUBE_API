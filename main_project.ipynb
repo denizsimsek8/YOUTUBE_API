{
 "cells": [
  {
   "cell_type": "code",
   "execution_count": 1,
   "metadata": {},
   "outputs": [],
   "source": [
    "import pandas as pd\n",
    "from config.config import YOUTUBE_API_KEY\n",
    "from googleapiclient.discovery import build\n",
    "from IPython.display import JSON"
   ]
  },
  {
   "cell_type": "code",
   "execution_count": 2,
   "metadata": {},
   "outputs": [],
   "source": [
    "api_service_name = \"youtube\"\n",
    "api_version = \"v3\""
   ]
  },
  {
   "cell_type": "code",
   "execution_count": 3,
   "metadata": {},
   "outputs": [],
   "source": [
    "channel_ids = [\n",
    "    \"UC3lYGDxVFqsgBDgtxHTF3YA\"\n",
    "]"
   ]
  },
  {
   "cell_type": "code",
   "execution_count": 4,
   "metadata": {},
   "outputs": [],
   "source": [
    "youtube = build(api_service_name, api_version, developerKey=YOUTUBE_API_KEY)"
   ]
  },
  {
   "cell_type": "code",
   "execution_count": 5,
   "metadata": {},
   "outputs": [
    {
     "name": "stdout",
     "output_type": "stream",
     "text": [
      "{'kind': 'youtube#channelListResponse', 'etag': 'fOhiMAc4uh_W9Z-8ct1mCUr1k0U', 'pageInfo': {'totalResults': 1, 'resultsPerPage': 5}, 'items': [{'kind': 'youtube#channel', 'etag': 'k0h01CR4LhK3pUBBu_RcGcBFz5w', 'id': 'UC3lYGDxVFqsgBDgtxHTF3YA', 'snippet': {'title': 'Gezmeyi Bilican', 'description': 'Bilican ailesi sizin için geziyor.\\n\\nİletişim: gezmeyibilican@gmail.com', 'customUrl': '@gezmeyibilican', 'publishedAt': '2021-08-17T13:17:57.983987Z', 'thumbnails': {'default': {'url': 'https://yt3.ggpht.com/cJfXYWJfaSm134RmMEJZ6Cax2PJG-X_XcBBBRVM-0hbCO5jhcaU3TVL7VpYQEr1DOw-Joub8=s88-c-k-c0x00ffffff-no-rj', 'width': 88, 'height': 88}, 'medium': {'url': 'https://yt3.ggpht.com/cJfXYWJfaSm134RmMEJZ6Cax2PJG-X_XcBBBRVM-0hbCO5jhcaU3TVL7VpYQEr1DOw-Joub8=s240-c-k-c0x00ffffff-no-rj', 'width': 240, 'height': 240}, 'high': {'url': 'https://yt3.ggpht.com/cJfXYWJfaSm134RmMEJZ6Cax2PJG-X_XcBBBRVM-0hbCO5jhcaU3TVL7VpYQEr1DOw-Joub8=s800-c-k-c0x00ffffff-no-rj', 'width': 800, 'height': 800}}, 'localized': {'title': 'Gezmeyi Bilican', 'description': 'Bilican ailesi sizin için geziyor.\\n\\nİletişim: gezmeyibilican@gmail.com'}, 'country': 'TR'}, 'contentDetails': {'relatedPlaylists': {'likes': '', 'uploads': 'UU3lYGDxVFqsgBDgtxHTF3YA'}}, 'statistics': {'viewCount': '1922918', 'subscriberCount': '24600', 'hiddenSubscriberCount': False, 'videoCount': '47'}}]}\n"
     ]
    }
   ],
   "source": [
    "request = youtube.channels().list(\n",
    "    part=\"snippet,contentDetails,statistics\",\n",
    "    id=\",\".join(channel_ids)\n",
    ")\n",
    "response = request.execute()\n",
    "\n",
    "print(response)"
   ]
  },
  {
   "cell_type": "code",
   "execution_count": 6,
   "metadata": {},
   "outputs": [
    {
     "data": {
      "application/json": {
       "etag": "fOhiMAc4uh_W9Z-8ct1mCUr1k0U",
       "items": [
        {
         "contentDetails": {
          "relatedPlaylists": {
           "likes": "",
           "uploads": "UU3lYGDxVFqsgBDgtxHTF3YA"
          }
         },
         "etag": "k0h01CR4LhK3pUBBu_RcGcBFz5w",
         "id": "UC3lYGDxVFqsgBDgtxHTF3YA",
         "kind": "youtube#channel",
         "snippet": {
          "country": "TR",
          "customUrl": "@gezmeyibilican",
          "description": "Bilican ailesi sizin için geziyor.\n\nİletişim: gezmeyibilican@gmail.com",
          "localized": {
           "description": "Bilican ailesi sizin için geziyor.\n\nİletişim: gezmeyibilican@gmail.com",
           "title": "Gezmeyi Bilican"
          },
          "publishedAt": "2021-08-17T13:17:57.983987Z",
          "thumbnails": {
           "default": {
            "height": 88,
            "url": "https://yt3.ggpht.com/cJfXYWJfaSm134RmMEJZ6Cax2PJG-X_XcBBBRVM-0hbCO5jhcaU3TVL7VpYQEr1DOw-Joub8=s88-c-k-c0x00ffffff-no-rj",
            "width": 88
           },
           "high": {
            "height": 800,
            "url": "https://yt3.ggpht.com/cJfXYWJfaSm134RmMEJZ6Cax2PJG-X_XcBBBRVM-0hbCO5jhcaU3TVL7VpYQEr1DOw-Joub8=s800-c-k-c0x00ffffff-no-rj",
            "width": 800
           },
           "medium": {
            "height": 240,
            "url": "https://yt3.ggpht.com/cJfXYWJfaSm134RmMEJZ6Cax2PJG-X_XcBBBRVM-0hbCO5jhcaU3TVL7VpYQEr1DOw-Joub8=s240-c-k-c0x00ffffff-no-rj",
            "width": 240
           }
          },
          "title": "Gezmeyi Bilican"
         },
         "statistics": {
          "hiddenSubscriberCount": false,
          "subscriberCount": "24600",
          "videoCount": "47",
          "viewCount": "1922918"
         }
        }
       ],
       "kind": "youtube#channelListResponse",
       "pageInfo": {
        "resultsPerPage": 5,
        "totalResults": 1
       }
      },
      "text/plain": [
       "<IPython.core.display.JSON object>"
      ]
     },
     "execution_count": 6,
     "metadata": {
      "application/json": {
       "expanded": false,
       "root": "root"
      }
     },
     "output_type": "execute_result"
    }
   ],
   "source": [
    "(JSON(response)"
   ]
  },
  {
   "cell_type": "code",
   "execution_count": 18,
   "metadata": {},
   "outputs": [],
   "source": [
    "def collect_channel_stats(youtube, channel_ids):\n",
    "    request = youtube.channels().list(\n",
    "        part=\"statistics\",\n",
    "        id=\",\".join(channel_ids)\n",
    "    )\n",
    "    response = request.execute()\n",
    "    datas = []\n",
    "    for statistics in response['items']:\n",
    "        data = {'viewCount' : statistics['statistics']['viewCount'],\n",
    "                'subscriberCount' : statistics['statistics']['subscriberCount'],\n",
    "                'videoCount' : statistics['statistics']['videoCount'],\n",
    "        }\n",
    "        datas.append(data)     \n",
    "    return pd.DataFrame(datas)\n"
   ]
  },
  {
   "cell_type": "code",
   "execution_count": 19,
   "metadata": {},
   "outputs": [],
   "source": [
    "channel_stats = collect_channel_stats(youtube, channel_ids)"
   ]
  },
  {
   "cell_type": "code",
   "execution_count": 20,
   "metadata": {},
   "outputs": [
    {
     "data": {
      "text/html": [
       "<div>\n",
       "<style scoped>\n",
       "    .dataframe tbody tr th:only-of-type {\n",
       "        vertical-align: middle;\n",
       "    }\n",
       "\n",
       "    .dataframe tbody tr th {\n",
       "        vertical-align: top;\n",
       "    }\n",
       "\n",
       "    .dataframe thead th {\n",
       "        text-align: right;\n",
       "    }\n",
       "</style>\n",
       "<table border=\"1\" class=\"dataframe\">\n",
       "  <thead>\n",
       "    <tr style=\"text-align: right;\">\n",
       "      <th></th>\n",
       "      <th>viewCount</th>\n",
       "      <th>subscriberCount</th>\n",
       "      <th>videoCount</th>\n",
       "    </tr>\n",
       "  </thead>\n",
       "  <tbody>\n",
       "    <tr>\n",
       "      <th>0</th>\n",
       "      <td>1922918</td>\n",
       "      <td>24600</td>\n",
       "      <td>47</td>\n",
       "    </tr>\n",
       "  </tbody>\n",
       "</table>\n",
       "</div>"
      ],
      "text/plain": [
       "  viewCount subscriberCount videoCount\n",
       "0   1922918           24600         47"
      ]
     },
     "execution_count": 20,
     "metadata": {},
     "output_type": "execute_result"
    }
   ],
   "source": [
    "channel_stats"
   ]
  },
  {
   "cell_type": "code",
   "execution_count": null,
   "metadata": {},
   "outputs": [],
   "source": []
  }
 ],
 "metadata": {
  "kernelspec": {
   "display_name": "Python 3",
   "language": "python",
   "name": "python3"
  },
  "language_info": {
   "codemirror_mode": {
    "name": "ipython",
    "version": 3
   },
   "file_extension": ".py",
   "mimetype": "text/x-python",
   "name": "python",
   "nbconvert_exporter": "python",
   "pygments_lexer": "ipython3",
   "version": "3.11.5"
  }
 },
 "nbformat": 4,
 "nbformat_minor": 2
}
